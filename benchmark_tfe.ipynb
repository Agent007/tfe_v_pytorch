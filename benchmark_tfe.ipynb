{
 "cells": [
  {
   "cell_type": "markdown",
   "metadata": {
    "colab_type": "text",
    "id": "vDJ4XzMqodTy"
   },
   "source": [
    "# Eager Execution: Working with Gradients\n",
    "\n",
    "This notebook demonstrates:\n",
    "\n",
    "* How to get gradients using TensorFlow's eager execution capabilities\n",
    "* How to apply the gradients so you can update your variables"
   ]
  },
  {
   "cell_type": "markdown",
   "metadata": {
    "colab_type": "text",
    "id": "GQJysDM__Qb0"
   },
   "source": [
    "# Setup: Import eager and enable eager execution.\n"
   ]
  },
  {
   "cell_type": "code",
   "execution_count": 1,
   "metadata": {},
   "outputs": [],
   "source": [
    "import os\n",
    "\n",
    "os.environ[\"CUDA_VISIBLE_DEVICES\"] = \"0\""
   ]
  },
  {
   "cell_type": "code",
   "execution_count": 2,
   "metadata": {
    "colab": {
     "autoexec": {
      "startup": false,
      "wait_interval": 0
     }
    },
    "colab_type": "code",
    "id": "OiMPZStlibBv"
   },
   "outputs": [
    {
     "name": "stderr",
     "output_type": "stream",
     "text": [
      "/opt/anaconda3/lib/python3.6/site-packages/h5py/__init__.py:36: FutureWarning: Conversion of the second argument of issubdtype from `float` to `np.floating` is deprecated. In future, it will be treated as `np.float64 == np.dtype(float).type`.\n",
      "  from ._conv import register_converters as _register_converters\n"
     ]
    },
    {
     "name": "stdout",
     "output_type": "stream",
     "text": [
      "WARNING:tensorflow:From /opt/anaconda3/lib/python3.6/site-packages/tensorflow/contrib/learn/python/learn/datasets/base.py:198: retry (from tensorflow.contrib.learn.python.learn.datasets.base) is deprecated and will be removed in a future version.\n",
      "Instructions for updating:\n",
      "Use the retry module or similar alternatives.\n"
     ]
    }
   ],
   "source": [
    "# Import TensorFlow.\n",
    "import tensorflow as tf\n",
    "\n",
    "# Import TensorFlow eager execution support (subject to future changes).\n",
    "import tensorflow.contrib.eager as tfe\n",
    "\n",
    "# Enable eager execution.\n",
    "tfe.enable_eager_execution()"
   ]
  },
  {
   "cell_type": "markdown",
   "metadata": {
    "colab_type": "text",
    "id": "1CLWJl0QliB0"
   },
   "source": [
    "# Fitting a Simple Linear Model"
   ]
  },
  {
   "cell_type": "markdown",
   "metadata": {
    "colab_type": "text",
    "id": "-39gouo7mtgu"
   },
   "source": [
    "## Step 1: Synthesize some data\n",
    "\n",
    "To demonstrate fitting a model with TensorFlow's eager execution, we'll fit a linear model to some synthesized data (which includes some noise).\n",
    "\n",
    "In the code, we  use the variable names `w` and `b` to represent the single weight and bias we'll use to fit our model."
   ]
  },
  {
   "cell_type": "code",
   "execution_count": 3,
   "metadata": {
    "cellView": "code",
    "colab": {
     "autoexec": {
      "startup": false,
      "wait_interval": 0
     }
    },
    "colab_type": "code",
    "id": "rQsdCg9PfIL-"
   },
   "outputs": [],
   "source": [
    "import numpy as np\n",
    "\n",
    "\n",
    "# The constants we'll try to fit our variables to:\n",
    "true_w = 3\n",
    "true_b = 2\n",
    "\n",
    "NUM_EXAMPLES = 1000000  # 1000\n",
    "\n",
    "# Our inputs:\n",
    "inputs = np.random.normal(size=(NUM_EXAMPLES, 1))  # tf.random_normal(shape=[NUM_EXAMPLES, 1])\n",
    "\n",
    "# Our labels, with noise:\n",
    "noise = np.random.normal(size=(NUM_EXAMPLES, 1))  # tf.random_normal(shape=[NUM_EXAMPLES, 1])\n",
    "labels = inputs * true_w + true_b + noise\n",
    "\n",
    "# convert numpy arrays to Tensors\n",
    "X = tf.constant(inputs, dtype=\"float32\")\n",
    "y_true = tf.constant(labels, dtype=\"float32\")"
   ]
  },
  {
   "cell_type": "code",
   "execution_count": 4,
   "metadata": {
    "cellView": "code",
    "colab": {
     "autoexec": {
      "startup": false,
      "wait_interval": 0
     },
     "height": 360,
     "output_extras": [
      {
       "item_id": 1
      }
     ]
    },
    "colab_type": "code",
    "executionInfo": {
     "elapsed": 127,
     "status": "ok",
     "timestamp": 1505502830690,
     "user": {
      "displayName": "",
      "photoUrl": "",
      "userId": ""
     },
     "user_tz": 240
    },
    "id": "O4lsC4ckAcar",
    "outputId": "2f760690-cafb-4777-b970-91d839f99faf"
   },
   "outputs": [
    {
     "data": {
      "image/png": "[encoded data removed]",
      "text/plain": [
       "<matplotlib.figure.Figure at 0x7f7438005f28>"
      ]
     },
     "metadata": {},
     "output_type": "display_data"
    }
   ],
   "source": [
    "# Plot the Data (Optional)\n",
    "\n",
    "import matplotlib.pyplot as plt\n",
    "\n",
    "plt.scatter(inputs,  # .numpy(), \n",
    "            labels  # .numpy()\n",
    "           )\n",
    "plt.show()"
   ]
  },
  {
   "cell_type": "markdown",
   "metadata": {
    "colab_type": "text",
    "id": "JaFHyAG9nDET"
   },
   "source": [
    "## Step 2: Define our TensorFlow variables\n",
    "\n",
    "We'll use Keras's object-oriented [`Dense`](https://www.tensorflow.org/api_docs/python/tf/contrib/keras/layers/Dense) layer to create our variables. In this case, we'll create a `Dense` layer with a single weight and bias.\n",
    "\n",
    "(**Note**: We're using the implementation of `Dense` found in `tf.layers.Dense` though the documentation link is for `tf.contrib.keras.layers.Dense`. When TensorFlow 1.4 is released, the documentation will also be in `tf.layers.Dense`) "
   ]
  },
  {
   "cell_type": "code",
   "execution_count": 5,
   "metadata": {
    "cellView": "code",
    "colab": {
     "autoexec": {
      "startup": false,
      "wait_interval": 0
     },
     "height": 34,
     "output_extras": [
      {
       "item_id": 1
      }
     ]
    },
    "colab_type": "code",
    "executionInfo": {
     "elapsed": 22,
     "status": "ok",
     "timestamp": 1505502830753,
     "user": {
      "displayName": "",
      "photoUrl": "",
      "userId": ""
     },
     "user_tz": 240
    },
    "id": "z9r-ZeyrXu3A",
    "outputId": "6230a7a3-29fe-4d08-f101-da80425bad82"
   },
   "outputs": [
    {
     "data": {
      "text/plain": [
       "[]"
      ]
     },
     "execution_count": 5,
     "metadata": {},
     "output_type": "execute_result"
    }
   ],
   "source": [
    "# Create TensorFlow Variables using Keras's Dense layer.\n",
    "\n",
    "wb = tf.layers.Dense(units=1, use_bias=True)\n",
    "\n",
    "# We can access the underlying TensorFlow variables using wb.variables.\n",
    "# However, the variables won't exist until the dimensions of the input\n",
    "# tensors are known. Once the dimensions of the input tensors are known,\n",
    "# Keras can create and initialize the variables. Until then, Keras will\n",
    "# report the variables as an empty list: [].\n",
    "\n",
    "wb.variables"
   ]
  },
  {
   "cell_type": "markdown",
   "metadata": {
    "colab_type": "text",
    "id": "docKLUaonYG_"
   },
   "source": [
    "## Step 3: Define our loss function\n",
    "\n",
    "Our loss function is the standard L2 loss (where we reduce the loss to its mean across its inputs)."
   ]
  },
  {
   "cell_type": "code",
   "execution_count": 6,
   "metadata": {
    "cellView": "code",
    "colab": {
     "autoexec": {
      "startup": false,
      "wait_interval": 0
     }
    },
    "colab_type": "code",
    "id": "0_w8ZJSCtuY7"
   },
   "outputs": [],
   "source": [
    "def loss_fn(inputs, labels, wb):\n",
    "  \"\"\"Calculates the mean L2 loss for our linear model.\"\"\"\n",
    "  predictions = wb(inputs)\n",
    "  return tf.reduce_mean(tf.square(predictions - labels))"
   ]
  },
  {
   "cell_type": "code",
   "execution_count": 7,
   "metadata": {
    "cellView": "code",
    "colab": {
     "autoexec": {
      "startup": false,
      "wait_interval": 0
     },
     "height": 34,
     "output_extras": [
      {
       "item_id": 1
      }
     ]
    },
    "colab_type": "code",
    "executionInfo": {
     "elapsed": 24,
     "status": "ok",
     "timestamp": 1505502830875,
     "user": {
      "displayName": "",
      "photoUrl": "",
      "userId": ""
     },
     "user_tz": 240
    },
    "id": "RkNbXoXkpjVH",
    "outputId": "c36fc98d-3a57-4074-901d-c10ae017ae3f"
   },
   "outputs": [
    {
     "data": {
      "text/plain": [
       "<tf.Tensor: id=34, shape=(), dtype=float32, numpy=20.407852>"
      ]
     },
     "execution_count": 7,
     "metadata": {},
     "output_type": "execute_result"
    }
   ],
   "source": [
    "# Test loss function (optional).\n",
    "\n",
    "loss_fn(X, y_true, wb)"
   ]
  },
  {
   "cell_type": "code",
   "execution_count": 8,
   "metadata": {
    "colab": {
     "autoexec": {
      "startup": false,
      "wait_interval": 0
     },
     "height": 51,
     "output_extras": [
      {
       "item_id": 1
      }
     ]
    },
    "colab_type": "code",
    "executionInfo": {
     "elapsed": 57,
     "status": "ok",
     "timestamp": 1505502830981,
     "user": {
      "displayName": "",
      "photoUrl": "",
      "userId": ""
     },
     "user_tz": 240
    },
    "id": "K_7beXoHOU7t",
    "outputId": "1ad0856a-02ec-4117-a6c0-b41030981d87"
   },
   "outputs": [
    {
     "name": "stdout",
     "output_type": "stream",
     "text": [
      "w: tf.Tensor([[-0.9167711]], shape=(1, 1), dtype=float32)\n",
      "b: tf.Tensor([0.], shape=(1,), dtype=float32)\n"
     ]
    }
   ],
   "source": [
    "# At this point, the variables exist, and can now be queried:\n",
    "\n",
    "w, b = wb.variables\n",
    "print(\"w: \" + str(w.read_value()))\n",
    "print(\"b: \" + str(b.read_value()))"
   ]
  },
  {
   "cell_type": "markdown",
   "metadata": {
    "colab_type": "text",
    "id": "YIlebeb_qYtC"
   },
   "source": [
    "## Step 4: Create our gradients function using `implicit_value_and_gradients()`\n",
    "\n",
    "With a loss function defined, we can calculate gradients and apply them to our variables to update them.\n",
    "\n",
    "To calculate the gradients, we wrap our loss function using the `implicit_value_and_gradients()` function.\n",
    "\n",
    "`implicit_value_and_gradients()` returns a function that accepts the same inputs as the function passed in, and returns a tuple consisting of:\n",
    "\n",
    "1. the value returned by the function passed in (in this case, the loss calculated by `loss_fn()`), and\n",
    "1. a list of tuples consisting of:\n",
    "  1. The value of the gradient (a `tf.Tensor`) with respect to a given variable\n",
    "  1. The corresponding variable (`tf.Variable`)\n",
    "\n",
    "Test it out below to get a feel for what it does. Notice how the first value of the returned tuple (the loss) is the same as the value returned in the cell above that tests our loss function."
   ]
  },
  {
   "cell_type": "code",
   "execution_count": 9,
   "metadata": {
    "cellView": "code",
    "colab": {
     "autoexec": {
      "startup": false,
      "wait_interval": 0
     }
    },
    "colab_type": "code",
    "id": "v1spZQ4NwW1U"
   },
   "outputs": [],
   "source": [
    "# Produce our gradients function. See description above for details about\n",
    "# the returned function's signature.\n",
    "\n",
    "value_and_gradients_fn = tfe.implicit_value_and_gradients(loss_fn)"
   ]
  },
  {
   "cell_type": "code",
   "execution_count": 10,
   "metadata": {
    "cellView": "code",
    "colab": {
     "autoexec": {
      "startup": false,
      "wait_interval": 0
     },
     "height": 153,
     "output_extras": [
      {
       "item_id": 1
      }
     ]
    },
    "colab_type": "code",
    "executionInfo": {
     "elapsed": 46,
     "status": "ok",
     "timestamp": 1505502831114,
     "user": {
      "displayName": "",
      "photoUrl": "",
      "userId": ""
     },
     "user_tz": 240
    },
    "id": "21WMcpsmFFLd",
    "outputId": "f51b3171-33f5-4f87-8bf7-0be2dc8edc8a"
   },
   "outputs": [
    {
     "name": "stdout",
     "output_type": "stream",
     "text": [
      "Outputs of value_and_gradients_fn:\n",
      "Loss: 20.407852172851562\n",
      "\n",
      "Gradient: [[-7.869093]]\n",
      "Variable: <tf.Variable 'dense/kernel:0' shape=(1, 1) dtype=float32, numpy=array([[-0.9167711]], dtype=float32)>\n",
      "\n",
      "Gradient: [-3.999566]\n",
      "Variable: <tf.Variable 'dense/bias:0' shape=(1,) dtype=float32, numpy=array([0.], dtype=float32)>\n"
     ]
    }
   ],
   "source": [
    "print(\"Outputs of value_and_gradients_fn:\")\n",
    "value, grads_and_vars = value_and_gradients_fn(X,  # inputs, \n",
    "                                               y_true,  # labels, \n",
    "                                               wb)\n",
    "\n",
    "print('Loss: {}'.format(value))\n",
    "for (grad, var) in grads_and_vars:\n",
    "  print(\"\")\n",
    "  print('Gradient: {}\\nVariable: {}'.format(grad, var))"
   ]
  },
  {
   "cell_type": "markdown",
   "metadata": {
    "colab_type": "text",
    "id": "JVDWpL9VYWdP"
   },
   "source": [
    "## Step 5: Create an optimizer\n",
    "\n",
    "We'll use a `GradientDescentOptimizer` to fit our model."
   ]
  },
  {
   "cell_type": "code",
   "execution_count": 11,
   "metadata": {
    "cellView": "code",
    "colab": {
     "autoexec": {
      "startup": false,
      "wait_interval": 0
     }
    },
    "colab_type": "code",
    "id": "DudNEebMKDWN"
   },
   "outputs": [],
   "source": [
    "learning_rate = 1e-3\n",
    "optimizer = tf.train.GradientDescentOptimizer(learning_rate=learning_rate)"
   ]
  },
  {
   "cell_type": "markdown",
   "metadata": {
    "colab_type": "text",
    "id": "YBeJYxY8YaiO"
   },
   "source": [
    "### Step 5a: Test Our Optimizer\n",
    "\n",
    "Now we have everything needed to start fitting our variables to the data!\n",
    "\n",
    "In the next cell, we'll demo these capabilities. We'll:\n",
    "\n",
    "1. Print the current values of `w` and `b`\n",
    "1. Calculate the loss and gradients\n",
    "1. Apply the gradients\n",
    "1. Print out the new values of `w` and `b`\n",
    "\n",
    "You can run the cell multiple times. Each time, you should see the values of `w` and `b` get closer to their true values of 3 and 2."
   ]
  },
  {
   "cell_type": "code",
   "execution_count": 12,
   "metadata": {
    "cellView": "code",
    "colab": {
     "autoexec": {
      "startup": false,
      "wait_interval": 0
     },
     "height": 102,
     "output_extras": [
      {
       "item_id": 1
      }
     ]
    },
    "colab_type": "code",
    "executionInfo": {
     "elapsed": 103,
     "status": "ok",
     "timestamp": 1505502831285,
     "user": {
      "displayName": "",
      "photoUrl": "",
      "userId": ""
     },
     "user_tz": 240
    },
    "id": "diDZfrMJM3OC",
    "outputId": "d585fff0-ecb3-4e98-9b33-bbae07a95d8c"
   },
   "outputs": [
    {
     "name": "stdout",
     "output_type": "stream",
     "text": [
      "Values of w, b, BEFORE applying gradients:\n",
      "[[-0.9167711]] [0.]\n",
      "\n",
      "Values of w, b, AFTER applying gradients:\n",
      "[[-0.90890205]] [0.00399957]\n"
     ]
    }
   ],
   "source": [
    "# Test the optimizer.\n",
    "\n",
    "print(\"Values of w, b, BEFORE applying gradients:\")\n",
    "w, b = wb.variables\n",
    "print(w.read_value().numpy(), b.read_value().numpy())\n",
    "print()\n",
    "\n",
    "# Calculate the gradients:\n",
    "empirical_loss, gradients_and_variables = value_and_gradients_fn(X,  # inputs, \n",
    "                                                                 y_true,  # labels, \n",
    "                                                                 wb)\n",
    "optimizer.apply_gradients(gradients_and_variables)\n",
    "\n",
    "print(\"Values of w, b, AFTER applying gradients:\")\n",
    "print(w.read_value().numpy(), b.read_value().numpy())"
   ]
  },
  {
   "cell_type": "markdown",
   "metadata": {
    "colab_type": "text",
    "id": "61TgeLVlKEQp"
   },
   "source": [
    "## Step 6: Create a training loop\n",
    "\n",
    "Of course, now we can simply turn all of this code into a self-standing training loop. We'll also capture our loss and approximations of `w` and `b` and plot them over time."
   ]
  },
  {
   "cell_type": "code",
   "execution_count": 13,
   "metadata": {},
   "outputs": [],
   "source": [
    "num_training_steps = 1000  # 10\n",
    "\n",
    "loss_at_step = []\n",
    "w_at_step = []\n",
    "b_at_step = []"
   ]
  },
  {
   "cell_type": "code",
   "execution_count": 14,
   "metadata": {},
   "outputs": [
    {
     "name": "stdout",
     "output_type": "stream",
     "text": [
      "CPU times: user 2min 47s, sys: 5.56 s, total: 2min 52s\n",
      "Wall time: 16.3 s\n"
     ]
    }
   ],
   "source": [
    "%%time\n",
    "\n",
    "for step_num in range(num_training_steps):\n",
    "    loss, gradients_and_variables = value_and_gradients_fn(X,  # inputs, \n",
    "                                                           y_true,  # labels, \n",
    "                                                           wb)\n",
    "    loss_at_step.append(np.asscalar(loss.numpy()))\n",
    "    \n",
    "    optimizer.apply_gradients(gradients_and_variables)\n",
    "    w, b = wb.variables\n",
    "    w_at_step.append(np.asscalar(w.read_value().numpy()))\n",
    "    b_at_step.append(np.asscalar(b.read_value().numpy()))"
   ]
  },
  {
   "cell_type": "code",
   "execution_count": 15,
   "metadata": {},
   "outputs": [
    {
     "data": {
      "image/png": "[encoded data removed]",
      "text/plain": [
       "<matplotlib.figure.Figure at 0x7f73f56db7f0>"
      ]
     },
     "metadata": {},
     "output_type": "display_data"
    }
   ],
   "source": [
    "# print(w_at_step)\n",
    "t = range(0, num_training_steps)\n",
    "plt.plot(t, loss_at_step, 'k',\n",
    "       t, w_at_step, 'r',\n",
    "       t, [true_w] * num_training_steps, 'r--',\n",
    "       t, b_at_step, 'b',\n",
    "       t, [true_b] * num_training_steps, 'b--')\n",
    "plt.legend(['loss', 'w estimate', 'w true', 'b estimate', 'b true'])\n",
    "plt.show()"
   ]
  }
 ],
 "metadata": {
  "colab": {
   "default_view": {},
   "last_runtime": {
    "build_target": "",
    "kind": "local"
   },
   "name": "Eager Execution Tutorial: Working with Gradients",
   "provenance": [],
   "version": "0.3.2",
   "views": {}
  },
  "kernelspec": {
   "display_name": "Python 3",
   "language": "python",
   "name": "python3"
  },
  "language_info": {
   "codemirror_mode": {
    "name": "ipython",
    "version": 3
   },
   "file_extension": ".py",
   "mimetype": "text/x-python",
   "name": "python",
   "nbconvert_exporter": "python",
   "pygments_lexer": "ipython3",
   "version": "3.6.3"
  }
 },
 "nbformat": 4,
 "nbformat_minor": 1
}
